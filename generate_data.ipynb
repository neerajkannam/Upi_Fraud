{
 "cells": [
  {
   "cell_type": "code",
   "execution_count": 1,
   "id": "52c1da06",
   "metadata": {},
   "outputs": [
    {
     "name": "stdout",
     "output_type": "stream",
     "text": [
      "Saved as upi_fraud_data.csv\n"
     ]
    }
   ],
   "source": [
    "import pandas as pd\n",
    "import numpy as np\n",
    "from datetime import datetime, timedelta\n",
    "import random\n",
    "\n",
    "n_samples = 5000\n",
    "fraud_ratio = 0.03\n",
    "locations = ['Mumbai', 'Delhi', 'Bangalore', 'Hyderabad', 'Chennai', 'Kolkata', 'Pune', 'Ahmedabad']\n",
    "\n",
    "def generate_data(n):\n",
    "    data = []\n",
    "    for i in range(n):\n",
    "        timestamp = datetime(2024, 1, 1) + timedelta(minutes=random.randint(0, 525600))\n",
    "        amount = round(random.uniform(10, 50000), 2)\n",
    "        transaction_type = random.choice(['send', 'receive', 'merchant_payment'])\n",
    "        location = random.choice(locations)\n",
    "        device_type = random.choice(['mobile', 'tablet'])\n",
    "        is_rooted_device = np.random.choice([0, 1], p=[0.95, 0.05])\n",
    "        network_type = random.choice(['WiFi', '4G', '5G'])\n",
    "        hour = timestamp.hour\n",
    "        time_of_day = (\n",
    "            'night' if hour < 6 else\n",
    "            'morning' if hour < 12 else\n",
    "            'afternoon' if hour < 18 else\n",
    "            'evening'\n",
    "        )\n",
    "        is_fraud = 1 if (\n",
    "            amount > 25000 and\n",
    "            is_rooted_device == 1 and\n",
    "            transaction_type == 'send' and\n",
    "            time_of_day in ['night', 'evening']\n",
    "        ) else 0\n",
    "        if random.random() < fraud_ratio:\n",
    "            is_fraud = 1\n",
    "        data.append([\n",
    "            i + 1, timestamp, f\"user_{random.randint(1, 5000)}\", f\"user_{random.randint(1, 5000)}\",\n",
    "            amount, transaction_type, location, device_type, is_rooted_device,\n",
    "            network_type, time_of_day, is_fraud\n",
    "        ])\n",
    "    return pd.DataFrame(data, columns=[\n",
    "        'transaction_id', 'timestamp', 'user_id', 'receiver_id', 'amount',\n",
    "        'transaction_type', 'location', 'device_type', 'is_rooted_device',\n",
    "        'network_type', 'time_of_day', 'is_fraud'\n",
    "    ])\n",
    "\n",
    "df = generate_data(n_samples)\n",
    "df.to_csv('upi_fraud_data.csv', index=False)\n",
    "print(\"Saved as upi_fraud_data.csv\")\n"
   ]
  },
  {
   "cell_type": "code",
   "execution_count": null,
   "id": "eec3abd7",
   "metadata": {},
   "outputs": [],
   "source": []
  }
 ],
 "metadata": {
  "kernelspec": {
   "display_name": "Python 3",
   "language": "python",
   "name": "python3"
  },
  "language_info": {
   "codemirror_mode": {
    "name": "ipython",
    "version": 3
   },
   "file_extension": ".py",
   "mimetype": "text/x-python",
   "name": "python",
   "nbconvert_exporter": "python",
   "pygments_lexer": "ipython3",
   "version": "3.10.2"
  }
 },
 "nbformat": 4,
 "nbformat_minor": 5
}
